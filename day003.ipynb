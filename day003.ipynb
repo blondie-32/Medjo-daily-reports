{
 "cells": [
  {
   "cell_type": "markdown",
   "id": "e2cac301-9ab8-4739-9be9-d182cedaf00a",
   "metadata": {},
   "source": [
    "**Strings and files**"
   ]
  },
  {
   "cell_type": "code",
   "execution_count": 1,
   "id": "d523e2f2-09eb-459c-8a9d-1d990a7f8a73",
   "metadata": {},
   "outputs": [],
   "source": [
    "string_1 = \"Will you be at the meeting tonight?\"\n",
    "\n",
    "string_2 = '\"yes\", he replies.'"
   ]
  },
  {
   "cell_type": "code",
   "execution_count": 2,
   "id": "87b2c659-240e-4f10-b2db-ab1034b90d75",
   "metadata": {},
   "outputs": [
    {
     "name": "stdout",
     "output_type": "stream",
     "text": [
      "Will you be at the meeting tonight?\n"
     ]
    }
   ],
   "source": [
    "print(string_1)"
   ]
  },
  {
   "cell_type": "code",
   "execution_count": 3,
   "id": "79313ecb-f907-43c3-bee5-f82d436a1410",
   "metadata": {},
   "outputs": [
    {
     "name": "stdout",
     "output_type": "stream",
     "text": [
      "\"yes\", he replies.\n"
     ]
    }
   ],
   "source": [
    "print(string_2)"
   ]
  },
  {
   "cell_type": "markdown",
   "id": "2644796b-47d4-4f0a-91c6-cb8b47e8c98e",
   "metadata": {},
   "source": [
    "### Indexing"
   ]
  },
  {
   "cell_type": "code",
   "execution_count": 4,
   "id": "82a647a5-8468-40ab-b89b-7825e2a950d1",
   "metadata": {},
   "outputs": [
    {
     "data": {
      "text/plain": [
       "'W'"
      ]
     },
     "execution_count": 4,
     "metadata": {},
     "output_type": "execute_result"
    }
   ],
   "source": [
    "string_1[0]  # The indexing (of a character in a given string) starts at 0."
   ]
  },
  {
   "cell_type": "code",
   "execution_count": 5,
   "id": "38e58037-f893-4970-bb03-f85f2b0182d1",
   "metadata": {},
   "outputs": [
    {
     "data": {
      "text/plain": [
       "'l'"
      ]
     },
     "execution_count": 5,
     "metadata": {},
     "output_type": "execute_result"
    }
   ],
   "source": [
    "string_1[2]"
   ]
  },
  {
   "cell_type": "code",
   "execution_count": 6,
   "id": "efefc1ec-2304-47dd-93ad-136d04ee284d",
   "metadata": {},
   "outputs": [
    {
     "name": "stdout",
     "output_type": "stream",
     "text": [
      "Will you be at the meeting tonight?\n",
      "The second character of my string is i\n"
     ]
    }
   ],
   "source": [
    "print(string_1)\n",
    "print(\"The second character of my string is\", string_1[1])"
   ]
  },
  {
   "cell_type": "code",
   "execution_count": null,
   "id": "bdc9ee7a-5b38-4dd9-ac94-4800b08bfc11",
   "metadata": {},
   "outputs": [],
   "source": []
  },
  {
   "cell_type": "markdown",
   "id": "24996de1-1a1d-434e-b8c4-7ff73602c58a",
   "metadata": {},
   "source": [
    "### Slicing\n",
    "```python\n",
    "string[start:stop:step]\n",
    "```"
   ]
  },
  {
   "cell_type": "code",
   "execution_count": 7,
   "id": "c5e09d2d-9381-44a1-981b-add714e94351",
   "metadata": {},
   "outputs": [
    {
     "name": "stdout",
     "output_type": "stream",
     "text": [
      "Will you be at the meeting tonight?\n"
     ]
    },
    {
     "data": {
      "text/plain": [
       "'l o'"
      ]
     },
     "execution_count": 7,
     "metadata": {},
     "output_type": "execute_result"
    }
   ],
   "source": [
    "print(string_1)\n",
    "string_1[2:8:2] # Le compte de characteres commence a l'indixe 2, le pas c'est 2 et on s'arrete au charactere indixe par 8-1=7 "
   ]
  },
  {
   "cell_type": "code",
   "execution_count": 8,
   "id": "0afb5dee-9bd0-4e00-aa03-fbaeb4f1b609",
   "metadata": {},
   "outputs": [
    {
     "data": {
      "text/plain": [
       "'bge'"
      ]
     },
     "execution_count": 8,
     "metadata": {},
     "output_type": "execute_result"
    }
   ],
   "source": [
    "string_3 = 'Tobigoestoschooleveryday.'\n",
    "string_3[2:8:2]"
   ]
  },
  {
   "cell_type": "code",
   "execution_count": 9,
   "id": "64c168b2-747e-4667-9f26-0b67c2173cfa",
   "metadata": {},
   "outputs": [
    {
     "data": {
      "text/plain": [
       "'bg'"
      ]
     },
     "execution_count": 9,
     "metadata": {},
     "output_type": "execute_result"
    }
   ],
   "source": [
    "string_3 = 'Tobigoestoschooleveryday.'\n",
    "string_3[2:6:2]"
   ]
  },
  {
   "cell_type": "code",
   "execution_count": 10,
   "id": "0b5e4f05-793b-4039-ab23-eb664ef21c9e",
   "metadata": {},
   "outputs": [
    {
     "data": {
      "text/plain": [
       "'bgetshoeeya.'"
      ]
     },
     "execution_count": 10,
     "metadata": {},
     "output_type": "execute_result"
    }
   ],
   "source": [
    "string_3 = 'Tobigoestoschooleveryday.'\n",
    "string_3[2::2]"
   ]
  },
  {
   "cell_type": "code",
   "execution_count": 11,
   "id": "49ac8bbb-8c4a-4684-9ffb-e684ea8bc1de",
   "metadata": {},
   "outputs": [
    {
     "data": {
      "text/plain": [
       "'Tobigoestoschooleveryday.'"
      ]
     },
     "execution_count": 11,
     "metadata": {},
     "output_type": "execute_result"
    }
   ],
   "source": [
    "string_3 = 'Tobigoestoschooleveryday.'\n",
    "string_3[::]"
   ]
  },
  {
   "cell_type": "code",
   "execution_count": 12,
   "id": "1065c191-4f44-4eae-a253-bc43794bfe23",
   "metadata": {},
   "outputs": [
    {
     "data": {
      "text/plain": [
       "'Tobigoestoschooleveryday.'"
      ]
     },
     "execution_count": 12,
     "metadata": {},
     "output_type": "execute_result"
    }
   ],
   "source": [
    "string_3 = 'Tobigoestoschooleveryday.'\n",
    "string_3[:]"
   ]
  },
  {
   "cell_type": "code",
   "execution_count": 13,
   "id": "92cc14d9-8946-4a8c-9653-3aa841419eb5",
   "metadata": {},
   "outputs": [
    {
     "ename": "SyntaxError",
     "evalue": "invalid syntax (72560281.py, line 2)",
     "output_type": "error",
     "traceback": [
      "  \u001b[36mCell\u001b[39m\u001b[36m \u001b[39m\u001b[32mIn[13]\u001b[39m\u001b[32m, line 2\u001b[39m\n\u001b[31m    \u001b[39m\u001b[31mstring_3[]\u001b[39m\n             ^\n\u001b[31mSyntaxError\u001b[39m\u001b[31m:\u001b[39m invalid syntax\n"
     ]
    }
   ],
   "source": [
    "string_3 = 'Tobigoestoschooleveryday.'\n",
    "string_3[]  # It will generate a mistake."
   ]
  },
  {
   "cell_type": "code",
   "execution_count": 14,
   "id": "38ad3df5-ed57-4e4b-a8a0-89f8bd974c8a",
   "metadata": {},
   "outputs": [
    {
     "data": {
      "text/plain": [
       "'Tobigoes'"
      ]
     },
     "execution_count": 14,
     "metadata": {},
     "output_type": "execute_result"
    }
   ],
   "source": [
    "string_3 = 'Tobigoes.'\n",
    "string_3[:8] # To take elements for indixes 0 until 7 and the element for index 8 is excluded."
   ]
  },
  {
   "cell_type": "code",
   "execution_count": 15,
   "id": "b603d192-1f1b-4f3a-a3ff-b4c3c764b70e",
   "metadata": {},
   "outputs": [
    {
     "data": {
      "text/plain": [
       "'Tobigoes.'"
      ]
     },
     "execution_count": 15,
     "metadata": {},
     "output_type": "execute_result"
    }
   ],
   "source": [
    "string_3 = 'Tobigoes.'\n",
    "string_3[:9] # To take elements for indixes 0 until 8 and the element for index 9 is excluded."
   ]
  },
  {
   "cell_type": "code",
   "execution_count": 16,
   "id": "3f4dcadd-468e-427c-82ff-7d223bc7104f",
   "metadata": {},
   "outputs": [
    {
     "data": {
      "text/plain": [
       "'Tobigoes.'"
      ]
     },
     "execution_count": 16,
     "metadata": {},
     "output_type": "execute_result"
    }
   ],
   "source": [
    "string_3 = 'Tobigoes.'\n",
    "string_3[:]  # To print all the variable."
   ]
  },
  {
   "cell_type": "code",
   "execution_count": 17,
   "id": "0271d4d4-1fde-48ac-aa2f-b7cf68850fc1",
   "metadata": {},
   "outputs": [
    {
     "data": {
      "text/plain": [
       "'Tobigoestoschooleveryday.'"
      ]
     },
     "execution_count": 17,
     "metadata": {},
     "output_type": "execute_result"
    }
   ],
   "source": [
    "string_3 = 'Tobigoestoschooleveryday.'\n",
    "string_3[::1]  # It generates all the sting (the sentence)."
   ]
  },
  {
   "cell_type": "code",
   "execution_count": 18,
   "id": "791040f4-a8e7-44aa-bdcf-1c532eac84be",
   "metadata": {},
   "outputs": [
    {
     "data": {
      "text/plain": [
       "'To'"
      ]
     },
     "execution_count": 18,
     "metadata": {},
     "output_type": "execute_result"
    }
   ],
   "source": [
    "string_3 = 'Tobigoestoschooleveryday.'\n",
    "string_3[:2] # To take elements for indixes 0 and 1 and the element for index 2 is excluded."
   ]
  },
  {
   "cell_type": "code",
   "execution_count": 19,
   "id": "f1a5a4ce-25fa-447a-9e2a-7461d60e0dd1",
   "metadata": {},
   "outputs": [
    {
     "data": {
      "text/plain": [
       "'Tbgetshoeeya.'"
      ]
     },
     "execution_count": 19,
     "metadata": {},
     "output_type": "execute_result"
    }
   ],
   "source": [
    "string_3 = 'Tobigoestoschooleveryday.' \n",
    "string_3[::2]  # Le pas de compte ici c'est 2, mais on commence quand meme a partir du premier element, i.e., l'element indixe par 0."
   ]
  },
  {
   "cell_type": "code",
   "execution_count": 20,
   "id": "d19e3613-02d0-4692-93fb-86e476903210",
   "metadata": {},
   "outputs": [
    {
     "data": {
      "text/plain": [
       "'igoestoschooleveryday'"
      ]
     },
     "execution_count": 20,
     "metadata": {},
     "output_type": "execute_result"
    }
   ],
   "source": [
    "string_3[3:-1] # In python the index start by -1 from the end to the beginning. And we start by the element indixe by 0. "
   ]
  },
  {
   "cell_type": "code",
   "execution_count": 21,
   "id": "3f882643-f228-47c2-aec3-67bd198016d3",
   "metadata": {},
   "outputs": [
    {
     "data": {
      "text/plain": [
       "18"
      ]
     },
     "execution_count": 21,
     "metadata": {},
     "output_type": "execute_result"
    }
   ],
   "source": [
    "len(string_2)"
   ]
  },
  {
   "cell_type": "markdown",
   "id": "d9b5ee62-7f72-4bc6-b1fe-af4def4ece90",
   "metadata": {},
   "source": [
    "### Concatenation"
   ]
  },
  {
   "cell_type": "code",
   "execution_count": 22,
   "id": "8c1bb778-85dc-46a1-965e-97dbf5a2b44d",
   "metadata": {},
   "outputs": [
    {
     "name": "stdout",
     "output_type": "stream",
     "text": [
      "Hello,world\n",
      "worldHello,\n"
     ]
    }
   ],
   "source": [
    "my_var_1 = \"Hello,\"\n",
    "\n",
    "my_var_2 = 'world'\n",
    "\n",
    "concat = my_var_1 + my_var_2\n",
    "\n",
    "concat1 = my_var_2 + my_var_1\n",
    "\n",
    "print(concat)\n",
    "print(concat1)"
   ]
  },
  {
   "cell_type": "code",
   "execution_count": 23,
   "id": "260c16c2-ede9-4645-9acc-b224fffff50d",
   "metadata": {},
   "outputs": [
    {
     "name": "stdout",
     "output_type": "stream",
     "text": [
      "world\n"
     ]
    }
   ],
   "source": [
    "print(my_var_2)"
   ]
  },
  {
   "cell_type": "code",
   "execution_count": 24,
   "id": "44fb3f5a-944f-4652-82b7-a68a69024e2a",
   "metadata": {},
   "outputs": [
    {
     "name": "stdout",
     "output_type": "stream",
     "text": [
      "worldworld\n"
     ]
    }
   ],
   "source": [
    "print(2*my_var_2)"
   ]
  },
  {
   "cell_type": "code",
   "execution_count": 25,
   "id": "0443d949-07ba-4bd3-8f35-4f7726518cdf",
   "metadata": {},
   "outputs": [
    {
     "ename": "TypeError",
     "evalue": "can't multiply sequence by non-int of type 'float'",
     "output_type": "error",
     "traceback": [
      "\u001b[31m---------------------------------------------------------------------------\u001b[39m",
      "\u001b[31mTypeError\u001b[39m                                 Traceback (most recent call last)",
      "\u001b[36mCell\u001b[39m\u001b[36m \u001b[39m\u001b[32mIn[25]\u001b[39m\u001b[32m, line 1\u001b[39m\n\u001b[32m----> \u001b[39m\u001b[32m1\u001b[39m \u001b[38;5;28mprint\u001b[39m(\u001b[32;43m2.5\u001b[39;49m\u001b[43m*\u001b[49m\u001b[43mmy_var_2\u001b[49m) \u001b[38;5;66;03m# We get error, because we cannot multiply a float with a string or a non-integer. we have the same result with 2. because it is a float.\u001b[39;00m\n",
      "\u001b[31mTypeError\u001b[39m: can't multiply sequence by non-int of type 'float'"
     ]
    }
   ],
   "source": [
    "print(2.5*my_var_2) # We get error, because we cannot multiply a float with a string or a non-integer. we have the same result with 2. because it is a float."
   ]
  },
  {
   "cell_type": "code",
   "execution_count": 26,
   "id": "21a98b85-32bf-4adf-9d67-bcc53481d50e",
   "metadata": {},
   "outputs": [
    {
     "name": "stdout",
     "output_type": "stream",
     "text": [
      "worldworld\n"
     ]
    }
   ],
   "source": [
    "print(2*my_var_2) # It is possible to multiply strings with integers, the output is the the name of the string many times."
   ]
  },
  {
   "cell_type": "code",
   "execution_count": 27,
   "id": "ae3b7e1c-6d94-4d42-b886-3adccb1f8dda",
   "metadata": {},
   "outputs": [
    {
     "data": {
      "text/plain": [
       "True"
      ]
     },
     "execution_count": 27,
     "metadata": {},
     "output_type": "execute_result"
    }
   ],
   "source": [
    "2 == 2.0  # True"
   ]
  },
  {
   "cell_type": "code",
   "execution_count": 28,
   "id": "82c002b0-4788-48ca-a7b2-9472ae53b7a7",
   "metadata": {},
   "outputs": [
    {
     "data": {
      "text/plain": [
       "True"
      ]
     },
     "execution_count": 28,
     "metadata": {},
     "output_type": "execute_result"
    }
   ],
   "source": [
    "2 == 2. # True"
   ]
  },
  {
   "cell_type": "code",
   "execution_count": 29,
   "id": "7a6dcaba-7a3a-4710-b8ec-f5973467b419",
   "metadata": {},
   "outputs": [
    {
     "data": {
      "text/plain": [
       "\u001b[31mSignature:\u001b[39m my_var_2.capitalize()\n",
       "\u001b[31mDocstring:\u001b[39m\n",
       "Return a capitalized version of the string.\n",
       "\n",
       "More specifically, make the first character have upper case and the rest lower\n",
       "case.\n",
       "\u001b[31mType:\u001b[39m      builtin_function_or_method"
      ]
     },
     "metadata": {},
     "output_type": "display_data"
    }
   ],
   "source": [
    "?my_var_2.capitalize"
   ]
  },
  {
   "cell_type": "markdown",
   "id": "5971a81c-3c69-4f68-a8f9-cf0087fcf029",
   "metadata": {},
   "source": [
    "## Exercises"
   ]
  },
  {
   "cell_type": "code",
   "execution_count": 30,
   "id": "4e0ede9a-18ba-41c0-9fa9-baa776a9c7db",
   "metadata": {},
   "outputs": [
    {
     "data": {
      "text/plain": [
       "'my country is Cameroon.'"
      ]
     },
     "execution_count": 30,
     "metadata": {},
     "output_type": "execute_result"
    }
   ],
   "source": [
    "str1 = \"my country is Cameroon.\"\n",
    "str1"
   ]
  },
  {
   "cell_type": "code",
   "execution_count": 31,
   "id": "a987435d-8640-42ea-9e0d-822ebcd60f3b",
   "metadata": {},
   "outputs": [
    {
     "data": {
      "text/plain": [
       "'My country is cameroon.'"
      ]
     },
     "execution_count": 31,
     "metadata": {},
     "output_type": "execute_result"
    }
   ],
   "source": [
    "str1.capitalize()  # Utilisee pour mettre uniquement la premiere lettre de la phrase en majiscule."
   ]
  },
  {
   "cell_type": "code",
   "execution_count": 32,
   "id": "2e24309f-b51f-442f-8bd2-a1aa3b2c4aca",
   "metadata": {},
   "outputs": [
    {
     "data": {
      "text/plain": [
       "'My Country Is Cameroon.'"
      ]
     },
     "execution_count": 32,
     "metadata": {},
     "output_type": "execute_result"
    }
   ],
   "source": [
    "str1.title()  # Utilisee pour mettre uniquement la premiere lettre de chaque mot de la phrase en majiscule"
   ]
  },
  {
   "cell_type": "code",
   "execution_count": 33,
   "id": "90e35d41-d5fd-47b6-8b4c-c6dedc3997c3",
   "metadata": {},
   "outputs": [
    {
     "data": {
      "text/plain": [
       "2"
      ]
     },
     "execution_count": 33,
     "metadata": {},
     "output_type": "execute_result"
    }
   ],
   "source": [
    "str1.count(\"y\") # To count the number of \"y\" inside the variable str1."
   ]
  },
  {
   "cell_type": "code",
   "execution_count": 34,
   "id": "dd7c8b64-3f45-430b-ab8a-34e7292e75c5",
   "metadata": {},
   "outputs": [
    {
     "data": {
      "text/plain": [
       "'my country is Cameroon.'"
      ]
     },
     "execution_count": 34,
     "metadata": {},
     "output_type": "execute_result"
    }
   ],
   "source": [
    "str1.center(8)"
   ]
  },
  {
   "cell_type": "code",
   "execution_count": 36,
   "id": "fb7c10d0-b6f3-4942-a763-2a91e2099884",
   "metadata": {},
   "outputs": [
    {
     "data": {
      "text/plain": [
       "\u001b[31mSignature:\u001b[39m str1.center(width, fillchar=\u001b[33m' '\u001b[39m, /)\n",
       "\u001b[31mDocstring:\u001b[39m\n",
       "Return a centered string of length width.\n",
       "\n",
       "Padding is done using the specified fill character (default is a space).\n",
       "\u001b[31mType:\u001b[39m      builtin_function_or_method"
      ]
     },
     "metadata": {},
     "output_type": "display_data"
    }
   ],
   "source": [
    "?str1.center"
   ]
  },
  {
   "cell_type": "code",
   "execution_count": 37,
   "id": "27bc7b33-669b-4cc5-b5c6-9ca90c531f7c",
   "metadata": {},
   "outputs": [
    {
     "data": {
      "text/plain": [
       "\u001b[31mSignature:\u001b[39m str1.casefold()\n",
       "\u001b[31mDocstring:\u001b[39m Return a version of the string suitable for caseless comparisons.\n",
       "\u001b[31mType:\u001b[39m      builtin_function_or_method"
      ]
     },
     "metadata": {},
     "output_type": "display_data"
    }
   ],
   "source": [
    "?str1.casefold"
   ]
  },
  {
   "cell_type": "code",
   "execution_count": 38,
   "id": "6b37235e-1a03-407a-9659-55fbad6f7d3f",
   "metadata": {},
   "outputs": [
    {
     "data": {
      "text/plain": [
       "<function str.casefold()>"
      ]
     },
     "execution_count": 38,
     "metadata": {},
     "output_type": "execute_result"
    }
   ],
   "source": [
    "str1.casefold"
   ]
  },
  {
   "cell_type": "code",
   "execution_count": 39,
   "id": "b74ac619-1b9a-4770-807a-1912a4834b89",
   "metadata": {},
   "outputs": [
    {
     "ename": "SyntaxError",
     "evalue": "invalid syntax (2401036103.py, line 2)",
     "output_type": "error",
     "traceback": [
      "  \u001b[36mCell\u001b[39m\u001b[36m \u001b[39m\u001b[32mIn[39]\u001b[39m\u001b[32m, line 2\u001b[39m\n\u001b[31m    \u001b[39m\u001b[31mAIMS class\u001b[39m\n         ^\n\u001b[31mSyntaxError\u001b[39m\u001b[31m:\u001b[39m invalid syntax\n"
     ]
    }
   ],
   "source": [
    "Blondie\n",
    "AIMS class\n",
    "Rwanda 2025\n",
    "this is really tired."
   ]
  },
  {
   "cell_type": "code",
   "execution_count": 41,
   "id": "ed68aa15-1512-4cdd-ad07-c638e8069f0b",
   "metadata": {},
   "outputs": [
    {
     "name": "stdout",
     "output_type": "stream",
     "text": [
      " Volume in drive C has no label.\n",
      " Volume Serial Number is EC48-36FB\n",
      "\n",
      " Directory of C:\\Users\\MEDJO\\Downloads\\python_course\\notebooks_lecture_notes\n",
      "\n",
      "\n",
      " Directory of C:\\Users\\MEDJO\\Downloads\\python_course\\notebooks_lecture_notes\n",
      "\n",
      "\n",
      " Directory of C:\\Users\\MEDJO\\Downloads\\python_course\\notebooks_lecture_notes\n",
      "\n",
      "\n",
      " Directory of C:\\Users\\MEDJO\\Downloads\\python_course\\notebooks_lecture_notes\n",
      "\n",
      "\n",
      " Directory of C:\\Users\\MEDJO\\Downloads\\python_course\\notebooks_lecture_notes\n",
      "\n"
     ]
    },
    {
     "name": "stderr",
     "output_type": "stream",
     "text": [
      "File Not Found\n"
     ]
    }
   ],
   "source": [
    "!dir # To display all directories."
   ]
  },
  {
   "cell_type": "code",
   "execution_count": 42,
   "id": "40f7072f-8b6d-41f1-99ac-b291ddbf4148",
   "metadata": {},
   "outputs": [],
   "source": [
    "# %load testfile.txt\n",
    "AIMS class \n",
    " Blondie is student \n",
    " academic class 2025."
   ]
  },
  {
   "cell_type": "code",
   "execution_count": 44,
   "id": "28149880-7d5f-483a-94c9-3c67ab5dff73",
   "metadata": {},
   "outputs": [
    {
     "name": "stdout",
     "output_type": "stream",
     "text": [
      "Object `%load testfile.txt` not found.\n"
     ]
    }
   ],
   "source": [
    "?%load testfile.txt  # It used to download a file."
   ]
  },
  {
   "cell_type": "code",
   "execution_count": 45,
   "id": "54c188f8-6fa4-44b1-bb19-782f9289832f",
   "metadata": {},
   "outputs": [],
   "source": [
    "f = open('testfile.txt', 'r')"
   ]
  },
  {
   "cell_type": "code",
   "execution_count": 46,
   "id": "14d0712e-fcae-4865-8104-698c960eaf4a",
   "metadata": {},
   "outputs": [
    {
     "data": {
      "text/plain": [
       "_io.TextIOWrapper"
      ]
     },
     "execution_count": 46,
     "metadata": {},
     "output_type": "execute_result"
    }
   ],
   "source": [
    "type(f)"
   ]
  },
  {
   "cell_type": "code",
   "execution_count": 47,
   "id": "823e2fee-ca7d-42f5-86b3-1b40690a4c9e",
   "metadata": {},
   "outputs": [
    {
     "data": {
      "text/plain": [
       "['AIMS class \\n', ' Blondie is student \\n', ' academic class 2025.']"
      ]
     },
     "execution_count": 47,
     "metadata": {},
     "output_type": "execute_result"
    }
   ],
   "source": [
    "f.readlines()"
   ]
  },
  {
   "cell_type": "code",
   "execution_count": 48,
   "id": "33da7414-ed03-429b-8e8b-208399f9f3d6",
   "metadata": {},
   "outputs": [
    {
     "data": {
      "text/plain": [
       "<_io.TextIOWrapper name='testfile.txt' mode='r' encoding='cp1252'>"
      ]
     },
     "execution_count": 48,
     "metadata": {},
     "output_type": "execute_result"
    }
   ],
   "source": [
    "f"
   ]
  },
  {
   "cell_type": "code",
   "execution_count": 49,
   "id": "f882eb3e-0916-4d1e-b7f0-fe0adfddd4e4",
   "metadata": {},
   "outputs": [
    {
     "data": {
      "text/plain": [
       "''"
      ]
     },
     "execution_count": 49,
     "metadata": {},
     "output_type": "execute_result"
    }
   ],
   "source": [
    "f.read()"
   ]
  },
  {
   "cell_type": "code",
   "execution_count": 50,
   "id": "bbcd355f-d9f5-483a-a716-a23a157a3a0b",
   "metadata": {},
   "outputs": [],
   "source": [
    "f.close()"
   ]
  },
  {
   "cell_type": "code",
   "execution_count": 51,
   "id": "126bdcd4-2243-4448-b20d-8dc288579596",
   "metadata": {},
   "outputs": [
    {
     "data": {
      "text/plain": [
       "<function TextIOWrapper.read(size=-1, /)>"
      ]
     },
     "execution_count": 51,
     "metadata": {},
     "output_type": "execute_result"
    }
   ],
   "source": [
    "f.read"
   ]
  },
  {
   "cell_type": "code",
   "execution_count": 52,
   "id": "d9bcd201-9f17-473e-bd59-34137ec5bf03",
   "metadata": {},
   "outputs": [],
   "source": [
    "to_write_to_file = open('testfile.txt', 'r')  # To open a file, but it also used to create a file. \n",
    "# r is used to read and w is used to write inside the file. Et on peut entrer dans le fichier a chaque fois qu'on le souhaite pour l'editer."
   ]
  },
  {
   "cell_type": "code",
   "execution_count": 53,
   "id": "06ac30b4-cf87-40f2-9910-e29c9806a2ed",
   "metadata": {},
   "outputs": [],
   "source": [
    "to_write = open('outfile.txt', 'w')\n",
    "to_write.write(\"This is Thursday1\\n\")\n",
    "to_write.write(\"This is Thursday2\")\n",
    "to_write.close()"
   ]
  },
  {
   "cell_type": "code",
   "execution_count": 54,
   "id": "8fd51fe3-0a69-4f4d-b99f-2341d28dbe21",
   "metadata": {},
   "outputs": [
    {
     "data": {
      "text/plain": [
       "['This is Thursday1\\n', 'This is Thursday2']"
      ]
     },
     "execution_count": 54,
     "metadata": {},
     "output_type": "execute_result"
    }
   ],
   "source": [
    "to_write = open('outfile.txt', 'r')\n",
    "to_write.readlines()\n"
   ]
  },
  {
   "cell_type": "code",
   "execution_count": 55,
   "id": "0ce67bb4-e379-4f46-88cc-1087dd02baed",
   "metadata": {},
   "outputs": [],
   "source": [
    "f = open('testfile.txt', 'w')\n",
    "f.write('AIMS class \\n Blondie is student \\n academic class 2025.')\n",
    "f.close()"
   ]
  },
  {
   "cell_type": "code",
   "execution_count": 56,
   "id": "e58746e7-609c-48fd-b097-e475dc431aca",
   "metadata": {},
   "outputs": [],
   "source": [
    "g = open('banana.txt', 'w') # A chaque fois qu'on fait une operation dans un fichier il faut d'abord ouvrir le fichier."
   ]
  },
  {
   "cell_type": "code",
   "execution_count": 57,
   "id": "22e16ade-9df9-4092-a861-fbce919acb6c",
   "metadata": {},
   "outputs": [],
   "source": [
    "g.write('tomate, \\n')\n",
    "g.write('apple, \\n')\n",
    "g.write('orange, \\n')\n",
    "g.write('watermelon.')\n",
    "g.close()"
   ]
  },
  {
   "cell_type": "code",
   "execution_count": null,
   "id": "6a73c551-7ffc-4043-bc8c-4ec3e720e177",
   "metadata": {},
   "outputs": [],
   "source": []
  }
 ],
 "metadata": {
  "kernelspec": {
   "display_name": "Python 3 (ipykernel)",
   "language": "python",
   "name": "python3"
  },
  "language_info": {
   "codemirror_mode": {
    "name": "ipython",
    "version": 3
   },
   "file_extension": ".py",
   "mimetype": "text/x-python",
   "name": "python",
   "nbconvert_exporter": "python",
   "pygments_lexer": "ipython3",
   "version": "3.13.7"
  }
 },
 "nbformat": 4,
 "nbformat_minor": 5
}
