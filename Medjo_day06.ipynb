{
 "cells": [
  {
   "cell_type": "markdown",
   "id": "6ad4371a-c874-4ff2-afc4-021c6140cad5",
   "metadata": {},
   "source": [
    "### Flow control"
   ]
  },
  {
   "cell_type": "code",
   "execution_count": 1,
   "id": "7d28b2bc-72ea-4249-b6e7-171078a60618",
   "metadata": {},
   "outputs": [
    {
     "name": "stdout",
     "output_type": "stream",
     "text": [
      "27\n"
     ]
    }
   ],
   "source": [
    "# if clause\n",
    "\n",
    "a = 27\n",
    "print(a)"
   ]
  },
  {
   "cell_type": "markdown",
   "id": "759a8cde-64f0-4a3c-b8cd-6d863d6df4ab",
   "metadata": {},
   "source": [
    "### If ... else"
   ]
  },
  {
   "cell_type": "markdown",
   "id": "78164610-0121-4efe-b0df-df6115addc55",
   "metadata": {},
   "source": [
    "```python\n",
    "if ......:\n",
    "      instruction 1 .....\n",
    "```"
   ]
  },
  {
   "cell_type": "code",
   "execution_count": 6,
   "id": "88fed3b6-819e-4c09-a2bf-663d20865ed6",
   "metadata": {},
   "outputs": [
    {
     "name": "stdout",
     "output_type": "stream",
     "text": [
      "We do not have it\n"
     ]
    }
   ],
   "source": [
    "a = 27\n",
    "#print(a)\n",
    "if(a > 29):\n",
    "    print(\"We have it\")\n",
    "else:\n",
    "    print(\"We do not have it\")"
   ]
  },
  {
   "cell_type": "markdown",
   "id": "58f7a38b-3421-40fa-aebc-84b19be12754",
   "metadata": {},
   "source": [
    "### If ... elif ... else"
   ]
  },
  {
   "cell_type": "code",
   "execution_count": 8,
   "id": "845e0f16-ce15-4a30-a944-bf55605e9e08",
   "metadata": {},
   "outputs": [
    {
     "name": "stdout",
     "output_type": "stream",
     "text": [
      "x is zero\n"
     ]
    }
   ],
   "source": [
    "x = 0\n",
    "if x > 0:\n",
    "    print(\"x is positive\")\n",
    "elif x < 0:\n",
    "    print(\"x is negative\")\n",
    "else:\n",
    "    print(\"x is zero\")"
   ]
  },
  {
   "cell_type": "markdown",
   "id": "7637cb12-639f-43ee-bf71-82c89b514f72",
   "metadata": {},
   "source": [
    "### Nested clauses\n",
    "```python\n",
    "if....:\n",
    "    instruction 1 ....  \n",
    "         if...:\n",
    "            instruction 2 ....\n",
    "        else:\n",
    "            instruction 3 ....\n",
    "else:\n",
    "   instruction 4 ....\n",
    "```"
   ]
  },
  {
   "cell_type": "code",
   "execution_count": 13,
   "id": "6d73417b-19d1-434c-ae22-9761a1dca894",
   "metadata": {},
   "outputs": [
    {
     "name": "stdout",
     "output_type": "stream",
     "text": [
      "a is greater than b\n",
      "The difference is...\n"
     ]
    }
   ],
   "source": [
    "a = 15\n",
    "b = 10\n",
    "\n",
    "if a>b:\n",
    "    print(\"a is greater than b\")\n",
    "    if(a-b > 5):\n",
    "        print(\"The difference is...\")\n",
    "    else:\n",
    "        print(\"The difference is...\")\n",
    "else:\n",
    "    print(\"b is greater than a\")\n"
   ]
  },
  {
   "cell_type": "markdown",
   "id": "b08abd02-de25-4534-a22b-9ebd1b6a669c",
   "metadata": {},
   "source": [
    "**Exercise:** Code to solve the equation ax^2 + bx + c = 0, a different of 0 and a,b,c,x in R"
   ]
  },
  {
   "cell_type": "code",
   "execution_count": 24,
   "id": "e11dc709-73e3-4531-8d88-b90614aec7e7",
   "metadata": {},
   "outputs": [
    {
     "name": "stdin",
     "output_type": "stream",
     "text": [
      "Enter the first coefficient of the equation: 2\n",
      "Enter the second coefficient of the equation: -3\n",
      "Enter the third coefficient of the equation: 1\n"
     ]
    },
    {
     "name": "stdout",
     "output_type": "stream",
     "text": [
      "The equation admits two reals solutions: 0.5 1.0\n"
     ]
    }
   ],
   "source": [
    "a1 = input(\"Enter the first coefficient of the equation:\")\n",
    "b1 = input(\"Enter the second coefficient of the equation:\")\n",
    "c1 = input(\"Enter the third coefficient of the equation:\")\n",
    "a = int(a1)\n",
    "b = int(b1)\n",
    "c = int(c1)\n",
    "if a!=0:\n",
    "    if (b**2 - 4*a*c > 0):\n",
    "        x1 = (- b - (b**2 - 4*a*c)**(0.5) ) / (2*a)\n",
    "        x2 = (- b + (b**2 - 4*a*c)**(0.5) ) / (2*a)\n",
    "        print(\"The equation admits two reals solutions:\", x1, x2)\n",
    "    elif (b**2 - 4*a*c == 0):\n",
    "        x0 = - b / (2*a)\n",
    "        print(\"The equation has a double solution:\", x0)\n",
    "    else: \n",
    "        print(\"The equation has not solutions in the set of reals numbers.\")\n",
    "else:\n",
    "    x00 = -c / b\n",
    "    print(\"The equation has one solution:\", x00)"
   ]
  },
  {
   "cell_type": "code",
   "execution_count": 26,
   "id": "d8a5126f-5e0c-45a5-9c12-830df2f37142",
   "metadata": {},
   "outputs": [
    {
     "name": "stdin",
     "output_type": "stream",
     "text": [
      "Enter the first coefficient of the equation: -2\n",
      "Enter the second coefficient of the equation: 3\n",
      "Enter the third coefficient of the equation: -8\n"
     ]
    },
    {
     "name": "stdout",
     "output_type": "stream",
     "text": [
      "The equation has not solutions in the set of reals numbers.\n"
     ]
    }
   ],
   "source": [
    "a1 = input(\"Enter the first coefficient of the equation:\")\n",
    "b1 = input(\"Enter the second coefficient of the equation:\")\n",
    "c1 = input(\"Enter the third coefficient of the equation:\")\n",
    "a = float(a1)\n",
    "b = float(b1)\n",
    "c = float(c1)\n",
    "if a!=0:\n",
    "    D = b**2 - 4*a*c\n",
    "    if (D > 0):\n",
    "        x1 = (- b - (D)**(0.5) ) / (2*a)\n",
    "        x2 = (- b + (D)**(0.5) ) / (2*a)\n",
    "        print(\"The equation admits two reals solutions:\", x1, x2)\n",
    "    elif (D == 0):\n",
    "        x0 = - b / (2*a)\n",
    "        print(\"The equation has a double solution:\", x0)\n",
    "    else: \n",
    "        print(\"The equation has not solutions in the set of reals numbers.\")\n",
    "else:\n",
    "    x00 = -c / b\n",
    "    print(\"The equation has one solution:\", x00)"
   ]
  },
  {
   "cell_type": "markdown",
   "id": "5cb5217b-ca94-4272-b4f6-8c9691128c56",
   "metadata": {},
   "source": [
    "**Exercise:** Code to solve the equation ax^2 + bx + c = 0, a different of 0 and a,b,c in R. Distinguish the case where the discriminant is negative and the roots are complexes."
   ]
  },
  {
   "cell_type": "code",
   "execution_count": 55,
   "id": "92774d8f-1aef-4135-ba25-30badf3ed57e",
   "metadata": {},
   "outputs": [
    {
     "name": "stdin",
     "output_type": "stream",
     "text": [
      "Enter the first coefficient of the equation: 3\n",
      "Enter the second coefficient of the equation: 1\n",
      "Enter the third coefficient of the equation: 89\n"
     ]
    },
    {
     "name": "stdout",
     "output_type": "stream",
     "text": [
      "The equation has not solutions in the set of reals numbers, but has two conjugate solutions in the set of complex numbers:(-0.166666666666667-5.444160990353692j) and (-0.16666666666666632+5.444160990353692j)\n"
     ]
    }
   ],
   "source": [
    "a1 = input(\"Enter the first coefficient of the equation:\")\n",
    "b1 = input(\"Enter the second coefficient of the equation:\")\n",
    "c1 = input(\"Enter the third coefficient of the equation:\")\n",
    "a = float(a1)\n",
    "b = float(b1)\n",
    "c = float(c1)\n",
    "if a!=0:\n",
    "    D = b**2 - 4*a*c\n",
    "    if (D > 0):\n",
    "        x1 = (- b - (D)**(0.5) ) / (2*a)\n",
    "        x2 = (- b + (D)**(0.5) ) / (2*a)\n",
    "        print(f\"The equation admits two reals solutions: {x1} and {x2}\")\n",
    "    elif (D == 0):\n",
    "        x0 = - b / (2*a)\n",
    "        print(\"The equation has a double solution:\", x0)\n",
    "    else: \n",
    "        x1 = (- b - (D)**(0.5) ) / (2*a)\n",
    "        x2 = (- b + (D)**(0.5) ) / (2*a)\n",
    "        #print(\"The equation has not solutions in the set of reals numbers, but has two solutions in the set of complex numbers:\" x1, x2)\n",
    "        print(f\"The equation has not solutions in the set of reals numbers, but has two conjugate solutions in the set of complex numbers:{x1} and {x2}\")\n",
    "else:\n",
    "    x00 = -c / b\n",
    "    print(\"The equation has one solution:\", x00)"
   ]
  },
  {
   "cell_type": "code",
   "execution_count": null,
   "id": "e0a52b37-6b83-44de-b612-ae3dc8a2c96f",
   "metadata": {},
   "outputs": [],
   "source": []
  },
  {
   "cell_type": "code",
   "execution_count": null,
   "id": "454b03ca-b9a3-418f-b0c3-57ca49b54987",
   "metadata": {},
   "outputs": [],
   "source": []
  },
  {
   "cell_type": "code",
   "execution_count": null,
   "id": "dfde0b37-7729-40d3-be54-a9ca40cd9a3f",
   "metadata": {},
   "outputs": [],
   "source": []
  },
  {
   "cell_type": "markdown",
   "id": "1750670e-4b09-44b9-ad6e-d39a45c6ba67",
   "metadata": {},
   "source": [
    "### Loops"
   ]
  },
  {
   "cell_type": "markdown",
   "id": "e113ef5d-605e-43ac-8d0d-4051692b10e5",
   "metadata": {},
   "source": [
    "## while\n",
    "```python\n",
    "Initialize variable\n",
    "while condition:\n",
    "    block of instructions\n",
    "    increment\n",
    "```\n",
    "## for\n",
    "```python\n",
    "for element in sequence_of_values:\n",
    "    block of instructions\n",
    "```"
   ]
  },
  {
   "cell_type": "code",
   "execution_count": 31,
   "id": "03cdf8eb-260f-4739-88cd-cf0250db94e5",
   "metadata": {},
   "outputs": [
    {
     "name": "stdout",
     "output_type": "stream",
     "text": [
      "The value of i is  1\n",
      "The value of i is  2\n",
      "The value of i is  3\n",
      "The value of i is  4\n",
      "The value of i is  5\n",
      "The value of i is  6\n",
      "The value of i is  7\n",
      "The value of i is  8\n",
      "The value of i is  9\n"
     ]
    }
   ],
   "source": [
    "i = 1\n",
    "while(i < 10):\n",
    "    print(\"The value of i is \", i)\n",
    "    i = i + 1"
   ]
  },
  {
   "cell_type": "code",
   "execution_count": 32,
   "id": "2251d6eb-9ae1-4134-ad50-86aebbf0b5a1",
   "metadata": {},
   "outputs": [
    {
     "name": "stdout",
     "output_type": "stream",
     "text": [
      "0\n",
      "1\n",
      "2\n",
      "3\n",
      "4\n",
      "5\n",
      "6\n",
      "7\n",
      "8\n",
      "9\n"
     ]
    }
   ],
   "source": [
    "n = 10\n",
    "for i in range(n):\n",
    "    print(i)"
   ]
  },
  {
   "cell_type": "code",
   "execution_count": 33,
   "id": "2b3184aa-357e-4acd-88ac-cde2f503c420",
   "metadata": {},
   "outputs": [
    {
     "name": "stdout",
     "output_type": "stream",
     "text": [
      "y\n",
      "d\n",
      "s\n",
      "h\n",
      "a\n",
      "d\n",
      "y\n",
      "u\n",
      "w\n",
      "d\n",
      "y\n",
      "v\n",
      "i\n",
      "a\n",
      "j\n",
      "f\n",
      "d\n",
      "v\n",
      "w\n",
      "y\n",
      "f\n",
      "d\n",
      "e\n",
      "u\n",
      "d\n",
      "g\n",
      "u\n",
      "a\n",
      "b\n",
      "d\n",
      "l\n",
      "y\n",
      "b\n",
      "d\n",
      "h\n",
      "s\n",
      "f\n",
      "v\n",
      "e\n",
      "w\n",
      "k\n",
      "u\n"
     ]
    }
   ],
   "source": [
    "for char in 'ydshadyuwdyviajfdvwyfdeudguabdlybdhsfvewku':\n",
    "    print(char)"
   ]
  },
  {
   "cell_type": "code",
   "execution_count": 34,
   "id": "7862ce7b-5b01-4a4d-a5d2-aca029f75fdb",
   "metadata": {},
   "outputs": [
    {
     "name": "stdout",
     "output_type": "stream",
     "text": [
      "y\n",
      "d\n",
      "s\n",
      "h\n",
      "a\n",
      "d\n",
      "y\n",
      "u\n",
      " \n",
      "w\n",
      "d\n",
      "y\n",
      "v\n",
      "i\n",
      "a\n",
      " \n",
      "j\n",
      "f\n",
      "d\n",
      "v\n",
      "w\n",
      "y\n",
      "f\n",
      "d\n",
      "e\n",
      "u\n",
      " \n",
      "d\n",
      "g\n",
      "u\n",
      "a\n",
      "b\n",
      "d\n",
      "l\n",
      "y\n",
      " \n",
      "b\n",
      "d\n",
      "h\n",
      "s\n",
      "f\n",
      "v\n",
      "e\n",
      "w\n",
      "k\n",
      " \n",
      " \n",
      " \n",
      "u\n"
     ]
    }
   ],
   "source": [
    "for char in 'ydshadyu wdyvia jfdvwyfdeu dguabdly bdhsfvewk   u':\n",
    "    print(char)"
   ]
  },
  {
   "cell_type": "code",
   "execution_count": 35,
   "id": "81342655-70eb-4a17-af5d-8cc13e4bf210",
   "metadata": {},
   "outputs": [
    {
     "name": "stdout",
     "output_type": "stream",
     "text": [
      "Try again\n",
      "We found it\n",
      "Try again\n",
      "Try again\n"
     ]
    }
   ],
   "source": [
    "list_fr = [3, 5, 'hello', 98]\n",
    "for i in list_fr:\n",
    "    if i == 5:\n",
    "        print(\"We found it\")\n",
    "    else:\n",
    "        print(\"Try again\")"
   ]
  },
  {
   "cell_type": "code",
   "execution_count": 36,
   "id": "ad8bfce3-379d-4988-93ce-fec2147a1235",
   "metadata": {},
   "outputs": [
    {
     "ename": "NameError",
     "evalue": "name 'banana' is not defined",
     "output_type": "error",
     "traceback": [
      "\u001b[31m---------------------------------------------------------------------------\u001b[39m",
      "\u001b[31mNameError\u001b[39m                                 Traceback (most recent call last)",
      "\u001b[36mCell\u001b[39m\u001b[36m \u001b[39m\u001b[32mIn[36]\u001b[39m\u001b[32m, line 1\u001b[39m\n\u001b[32m----> \u001b[39m\u001b[32m1\u001b[39m \u001b[38;5;28mprint\u001b[39m(\u001b[43mbanana\u001b[49m)\n",
      "\u001b[31mNameError\u001b[39m: name 'banana' is not defined"
     ]
    }
   ],
   "source": [
    "print(banana) # Without quotations, it doesn't run."
   ]
  },
  {
   "cell_type": "code",
   "execution_count": 37,
   "id": "8e4bfffc-43a1-4f5c-b3ae-8fcf478e1876",
   "metadata": {},
   "outputs": [
    {
     "name": "stdout",
     "output_type": "stream",
     "text": [
      "banana\n"
     ]
    }
   ],
   "source": [
    "print(\"banana\")"
   ]
  },
  {
   "cell_type": "code",
   "execution_count": 39,
   "id": "374df3a3-dc64-4791-90ab-a907ac38085b",
   "metadata": {},
   "outputs": [
    {
     "name": "stdout",
     "output_type": "stream",
     "text": [
      "The letter T is a consonant\n",
      "The letter h is a consonant\n",
      "The letter i is a vowel\n",
      "The letter s is a consonant\n",
      "This is likely a space\n",
      "The letter i is a vowel\n",
      "The letter s is a consonant\n",
      "This is likely a space\n",
      "The letter t is a consonant\n",
      "The letter h is a consonant\n",
      "The letter e is a vowel\n",
      "This is likely a space\n",
      "The letter s is a consonant\n",
      "The letter e is a vowel\n",
      "The letter c is a consonant\n",
      "The letter o is a vowel\n",
      "The letter n is a consonant\n",
      "The letter d is a consonant\n",
      "This is likely a space\n",
      "The letter c is a consonant\n",
      "The letter l is a consonant\n",
      "The letter a is a vowel\n",
      "The letter s is a consonant\n",
      "The letter s is a consonant\n",
      "This is likely a space\n",
      "The letter i is a vowel\n",
      "The letter n is a consonant\n",
      "This is likely a space\n",
      "The letter t is a consonant\n",
      "The letter h is a consonant\n",
      "The letter e is a vowel\n",
      "This is likely a space\n",
      "The letter n is a consonant\n",
      "The letter e is a vowel\n",
      "The letter w is a consonant\n",
      "This is likely a space\n",
      "The letter A is a vowel\n",
      "The letter I is a vowel\n",
      "The letter M is a consonant\n",
      "The letter S is a consonant\n",
      "This is likely a space\n",
      "The letter b is a consonant\n",
      "The letter u is a vowel\n",
      "The letter i is a vowel\n",
      "The letter l is a consonant\n",
      "The letter d is a consonant\n",
      "The letter i is a vowel\n",
      "The letter n is a consonant\n",
      "The letter g is a consonant\n"
     ]
    }
   ],
   "source": [
    "sentence = \"This is the second class in the new AIMS building\"\n",
    "for letter in sentence:\n",
    "    if letter in \"AEIOUYaeiouy\":\n",
    "        print(\"The letter\", letter, \"is a vowel\")\n",
    "    elif letter == \" \":\n",
    "        print(\"This is likely a space\")\n",
    "    else:\n",
    "        print(\"The letter\", letter, \"is a consonant\")"
   ]
  },
  {
   "cell_type": "code",
   "execution_count": 40,
   "id": "ef7a2dfb-4141-4478-ae90-6c3fdc4bd6ee",
   "metadata": {},
   "outputs": [
    {
     "name": "stdout",
     "output_type": "stream",
     "text": [
      "['__add__', '__class__', '__contains__', '__delattr__', '__dir__', '__doc__', '__eq__', '__format__', '__ge__', '__getattribute__', '__getitem__', '__getnewargs__', '__getstate__', '__gt__', '__hash__', '__init__', '__init_subclass__', '__iter__', '__le__', '__len__', '__lt__', '__mod__', '__mul__', '__ne__', '__new__', '__reduce__', '__reduce_ex__', '__repr__', '__rmod__', '__rmul__', '__setattr__', '__sizeof__', '__str__', '__subclasshook__', 'capitalize', 'casefold', 'center', 'count', 'encode', 'endswith', 'expandtabs', 'find', 'format', 'format_map', 'index', 'isalnum', 'isalpha', 'isascii', 'isdecimal', 'isdigit', 'isidentifier', 'islower', 'isnumeric', 'isprintable', 'isspace', 'istitle', 'isupper', 'join', 'ljust', 'lower', 'lstrip', 'maketrans', 'partition', 'removeprefix', 'removesuffix', 'replace', 'rfind', 'rindex', 'rjust', 'rpartition', 'rsplit', 'rstrip', 'split', 'splitlines', 'startswith', 'strip', 'swapcase', 'title', 'translate', 'upper', 'zfill']\n"
     ]
    }
   ],
   "source": [
    "print(dir(str)) ### Methods that can be used on strings"
   ]
  },
  {
   "cell_type": "code",
   "execution_count": 50,
   "id": "cd08fab3-6766-485e-977a-b8f12d26b6b2",
   "metadata": {},
   "outputs": [
    {
     "name": "stdout",
     "output_type": "stream",
     "text": [
      "The letter H is not an alphanumeric value\n",
      "The letter i is a vowel\n",
      "This is likely a space\n",
      "The letter g is not an alphanumeric value\n",
      "The letter u is a vowel\n",
      "The letter y is a vowel\n",
      "The letter s is not an alphanumeric value\n",
      "The letter , is not an alphanumeric value\n",
      "This is likely a space\n",
      "The letter I is a vowel\n",
      "This is likely a space\n",
      "The letter a is a vowel\n",
      "The letter m is not an alphanumeric value\n",
      "This is likely a space\n",
      "The letter t is not an alphanumeric value\n",
      "The letter h is not an alphanumeric value\n",
      "The letter e is a vowel\n",
      "This is likely a space\n",
      "The letter b is not an alphanumeric value\n",
      "The letter e is a vowel\n",
      "The letter s is not an alphanumeric value\n",
      "The letter t is not an alphanumeric value\n",
      "This is likely a space\n",
      "The letter c is not an alphanumeric value\n",
      "The letter a is a vowel\n",
      "The letter r is not an alphanumeric value\n",
      "The letter t is not an alphanumeric value\n",
      "The letter o is a vowel\n",
      "The letter o is a vowel\n",
      "The letter n is not an alphanumeric value\n",
      "This is likely a space\n",
      "The letter i is a vowel\n",
      "The letter n is not an alphanumeric value\n",
      "This is likely a space\n",
      "The letter t is not an alphanumeric value\n",
      "The letter h is not an alphanumeric value\n",
      "The letter e is a vowel\n",
      "This is likely a space\n",
      "The letter w is not an alphanumeric value\n",
      "The letter o is a vowel\n",
      "The letter r is not an alphanumeric value\n",
      "The letter l is not an alphanumeric value\n",
      "The letter d is not an alphanumeric value\n",
      "The letter . is not an alphanumeric value\n"
     ]
    }
   ],
   "source": [
    "# This new code will consider punctuations\n",
    "\n",
    "sentence1 = \"Hi guys, I am the best cartoon in the world.\"\n",
    "for letter in sentence1:\n",
    "    if letter in \"AEIOUYaeiouy\":\n",
    "        if letter.isalnum():  \n",
    "            print(\"The letter\", letter, \"is a vowel\")\n",
    "        else:\n",
    "            print(\"The letter\", letter, \"is a consonant\")\n",
    "    elif letter == \" \": \n",
    "        print(\"This is likely a space\")\n",
    "    else:\n",
    "        print(\"The letter\", letter, \"is not an alphanumeric value\")"
   ]
  },
  {
   "cell_type": "code",
   "execution_count": 51,
   "id": "138ed98f-4952-49a7-97b6-ae43febfdc6b",
   "metadata": {},
   "outputs": [
    {
     "data": {
      "text/plain": [
       "\u001b[31mSignature:\u001b[39m sentence1.isalnum()\n",
       "\u001b[31mDocstring:\u001b[39m\n",
       "Return True if the string is an alpha-numeric string, False otherwise.\n",
       "\n",
       "A string is alpha-numeric if all characters in the string are alpha-numeric and\n",
       "there is at least one character in the string.\n",
       "\u001b[31mType:\u001b[39m      builtin_function_or_method"
      ]
     },
     "metadata": {},
     "output_type": "display_data"
    }
   ],
   "source": [
    "?sentence1.isalnum"
   ]
  },
  {
   "cell_type": "code",
   "execution_count": 52,
   "id": "0d2f6b5b-bd58-43b2-b854-f9ef54e580dc",
   "metadata": {},
   "outputs": [
    {
     "name": "stdout",
     "output_type": "stream",
     "text": [
      "Help on built-in function isalnum:\n",
      "\n",
      "isalnum() method of builtins.str instance\n",
      "    Return True if the string is an alpha-numeric string, False otherwise.\n",
      "\n",
      "    A string is alpha-numeric if all characters in the string are alpha-numeric and\n",
      "    there is at least one character in the string.\n",
      "\n"
     ]
    }
   ],
   "source": [
    "help(sentence1.isalnum)"
   ]
  },
  {
   "cell_type": "code",
   "execution_count": null,
   "id": "af165ce6-6907-488d-9866-d8d01b9ac8b5",
   "metadata": {},
   "outputs": [],
   "source": []
  },
  {
   "cell_type": "code",
   "execution_count": null,
   "id": "3413c1a1-30e0-477b-8f2a-7314d6024615",
   "metadata": {},
   "outputs": [],
   "source": []
  },
  {
   "cell_type": "code",
   "execution_count": null,
   "id": "594926d5-272f-416a-a69a-c26637052690",
   "metadata": {},
   "outputs": [],
   "source": []
  },
  {
   "cell_type": "code",
   "execution_count": null,
   "id": "04653a2d-57cb-4f36-8b3f-3c25f8d2a9eb",
   "metadata": {},
   "outputs": [],
   "source": []
  },
  {
   "cell_type": "code",
   "execution_count": null,
   "id": "cf87c469-d5f2-43df-8019-40ac10f88630",
   "metadata": {},
   "outputs": [],
   "source": []
  }
 ],
 "metadata": {
  "kernelspec": {
   "display_name": "Python 3 (ipykernel)",
   "language": "python",
   "name": "python3"
  },
  "language_info": {
   "codemirror_mode": {
    "name": "ipython",
    "version": 3
   },
   "file_extension": ".py",
   "mimetype": "text/x-python",
   "name": "python",
   "nbconvert_exporter": "python",
   "pygments_lexer": "ipython3",
   "version": "3.13.7"
  }
 },
 "nbformat": 4,
 "nbformat_minor": 5
}
